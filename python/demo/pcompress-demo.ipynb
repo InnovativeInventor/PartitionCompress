{
 "cells": [
  {
   "cell_type": "code",
   "execution_count": 1,
   "id": "442ef7b7",
   "metadata": {
    "scrolled": true
   },
   "outputs": [
    {
     "name": "stdout",
     "output_type": "stream",
     "text": [
      "\u001b[33mDEPRECATION: Configuring installation scheme with distutils config files is deprecated and will no longer work in the near future. If you are using a Homebrew or Linuxbrew Python, please see discussion at https://github.com/Homebrew/homebrew-core/issues/76621\u001b[0m\n",
      "Requirement already satisfied: pcompress in /home/linuxbrew/.linuxbrew/lib/python3.9/site-packages (0.2.2)\n",
      "Requirement already satisfied: gerrychain<0.3.0,>=0.2.17 in /home/linuxbrew/.linuxbrew/lib/python3.9/site-packages (from pcompress) (0.2.17)\n",
      "Requirement already satisfied: pexpect<5.0.0,>=4.8.0 in /home/linuxbrew/.linuxbrew/lib/python3.9/site-packages (from pcompress) (4.8.0)\n",
      "Requirement already satisfied: pandas in /home/linuxbrew/.linuxbrew/lib/python3.9/site-packages (from gerrychain<0.3.0,>=0.2.17->pcompress) (1.2.5)\n",
      "Requirement already satisfied: matplotlib in /home/linuxbrew/.linuxbrew/lib/python3.9/site-packages (from gerrychain<0.3.0,>=0.2.17->pcompress) (3.4.2)\n",
      "Requirement already satisfied: networkx in /home/linuxbrew/.linuxbrew/lib/python3.9/site-packages (from gerrychain<0.3.0,>=0.2.17->pcompress) (2.5.1)\n",
      "Requirement already satisfied: scipy in /home/linuxbrew/.linuxbrew/lib/python3.9/site-packages (from gerrychain<0.3.0,>=0.2.17->pcompress) (1.7.0)\n",
      "Requirement already satisfied: geopandas in /home/linuxbrew/.linuxbrew/lib/python3.9/site-packages (from gerrychain<0.3.0,>=0.2.17->pcompress) (0.9.0)\n",
      "Requirement already satisfied: shapely in /home/linuxbrew/.linuxbrew/lib/python3.9/site-packages (from gerrychain<0.3.0,>=0.2.17->pcompress) (1.7.1)\n",
      "Requirement already satisfied: ptyprocess>=0.5 in /home/linuxbrew/.linuxbrew/lib/python3.9/site-packages (from pexpect<5.0.0,>=4.8.0->pcompress) (0.7.0)\n",
      "Requirement already satisfied: fiona>=1.8 in /home/linuxbrew/.linuxbrew/lib/python3.9/site-packages (from geopandas->gerrychain<0.3.0,>=0.2.17->pcompress) (1.8.20)\n",
      "Requirement already satisfied: pyproj>=2.2.0 in /home/linuxbrew/.linuxbrew/lib/python3.9/site-packages (from geopandas->gerrychain<0.3.0,>=0.2.17->pcompress) (3.1.0)\n",
      "Requirement already satisfied: six>=1.7 in /home/linuxbrew/.linuxbrew/lib/python3.9/site-packages (from fiona>=1.8->geopandas->gerrychain<0.3.0,>=0.2.17->pcompress) (1.16.0)\n",
      "Requirement already satisfied: setuptools in /home/linuxbrew/.linuxbrew/lib/python3.9/site-packages (from fiona>=1.8->geopandas->gerrychain<0.3.0,>=0.2.17->pcompress) (57.0.0)\n",
      "Requirement already satisfied: cligj>=0.5 in /home/linuxbrew/.linuxbrew/lib/python3.9/site-packages (from fiona>=1.8->geopandas->gerrychain<0.3.0,>=0.2.17->pcompress) (0.7.2)\n",
      "Requirement already satisfied: click>=4.0 in /home/linuxbrew/.linuxbrew/lib/python3.9/site-packages (from fiona>=1.8->geopandas->gerrychain<0.3.0,>=0.2.17->pcompress) (7.1.2)\n",
      "Requirement already satisfied: munch in /home/linuxbrew/.linuxbrew/lib/python3.9/site-packages (from fiona>=1.8->geopandas->gerrychain<0.3.0,>=0.2.17->pcompress) (2.5.0)\n",
      "Requirement already satisfied: certifi in /home/linuxbrew/.linuxbrew/lib/python3.9/site-packages (from fiona>=1.8->geopandas->gerrychain<0.3.0,>=0.2.17->pcompress) (2021.5.30)\n",
      "Requirement already satisfied: click-plugins>=1.0 in /home/linuxbrew/.linuxbrew/lib/python3.9/site-packages (from fiona>=1.8->geopandas->gerrychain<0.3.0,>=0.2.17->pcompress) (1.1.1)\n",
      "Requirement already satisfied: attrs>=17 in /home/linuxbrew/.linuxbrew/lib/python3.9/site-packages (from fiona>=1.8->geopandas->gerrychain<0.3.0,>=0.2.17->pcompress) (21.2.0)\n",
      "Requirement already satisfied: python-dateutil>=2.7.3 in /home/linuxbrew/.linuxbrew/lib/python3.9/site-packages (from pandas->gerrychain<0.3.0,>=0.2.17->pcompress) (2.8.1)\n",
      "Requirement already satisfied: pytz>=2017.3 in /home/linuxbrew/.linuxbrew/lib/python3.9/site-packages (from pandas->gerrychain<0.3.0,>=0.2.17->pcompress) (2020.5)\n",
      "Requirement already satisfied: numpy>=1.16.5 in /home/linuxbrew/.linuxbrew/lib/python3.9/site-packages (from pandas->gerrychain<0.3.0,>=0.2.17->pcompress) (1.21.0)\n",
      "Requirement already satisfied: pillow>=6.2.0 in /home/linuxbrew/.linuxbrew/lib/python3.9/site-packages (from matplotlib->gerrychain<0.3.0,>=0.2.17->pcompress) (8.2.0)\n",
      "Requirement already satisfied: kiwisolver>=1.0.1 in /home/linuxbrew/.linuxbrew/lib/python3.9/site-packages (from matplotlib->gerrychain<0.3.0,>=0.2.17->pcompress) (1.3.1)\n",
      "Requirement already satisfied: cycler>=0.10 in /home/linuxbrew/.linuxbrew/lib/python3.9/site-packages (from matplotlib->gerrychain<0.3.0,>=0.2.17->pcompress) (0.10.0)\n",
      "Requirement already satisfied: pyparsing>=2.2.1 in /home/linuxbrew/.linuxbrew/lib/python3.9/site-packages (from matplotlib->gerrychain<0.3.0,>=0.2.17->pcompress) (2.4.7)\n",
      "Requirement already satisfied: decorator<5,>=4.3 in /home/linuxbrew/.linuxbrew/lib/python3.9/site-packages (from networkx->gerrychain<0.3.0,>=0.2.17->pcompress) (4.4.2)\n",
      "\u001b[33mDEPRECATION: Configuring installation scheme with distutils config files is deprecated and will no longer work in the near future. If you are using a Homebrew or Linuxbrew Python, please see discussion at https://github.com/Homebrew/homebrew-core/issues/76621\u001b[0m\n",
      "\u001b[33mWARNING: You are using pip version 21.2.3; however, version 21.2.4 is available.\n",
      "You should consider upgrading via the '/home/linuxbrew/.linuxbrew/opt/python@3.9/bin/python3.9 -m pip install --upgrade pip' command.\u001b[0m\n"
     ]
    }
   ],
   "source": [
    "!pip install pcompress"
   ]
  },
  {
   "cell_type": "code",
   "execution_count": 8,
   "id": "0426d8cf",
   "metadata": {
    "scrolled": true
   },
   "outputs": [
    {
     "name": "stdout",
     "output_type": "stream",
     "text": [
      "\u001b[0m\u001b[0m\u001b[1m\u001b[32m    Updating\u001b[0m crates.io index\n",
      "\u001b[K\u001b[0m\u001b[0m\u001b[1m\u001b[32m  Downloaded\u001b[0m pcompress v0.2.2                                                 \n",
      "\u001b[K\u001b[0m\u001b[0m\u001b[1m\u001b[32m  Downloaded\u001b[0m 1 crate (5.8 KB) in 0.42s                                     \n",
      "\u001b[0m\u001b[0m\u001b[1m\u001b[32m  Installing\u001b[0m pcompress v0.2.2\n",
      "\u001b[0m\u001b[0m\u001b[1m\u001b[32m   Compiling\u001b[0m proc-macro2 v1.0.28\n",
      "\u001b[0m\u001b[0m\u001b[1m\u001b[32m   Compiling\u001b[0m version_check v0.9.3\n",
      "\u001b[0m\u001b[0m\u001b[1m\u001b[32m   Compiling\u001b[0m unicode-xid v0.2.2\n",
      "\u001b[0m\u001b[0m\u001b[1m\u001b[32m   Compiling\u001b[0m syn v1.0.75\n",
      "\u001b[0m\u001b[0m\u001b[1m\u001b[32m   Compiling\u001b[0m libc v0.2.100\n",
      "\u001b[0m\u001b[0m\u001b[1m\u001b[32m   Compiling\u001b[0m cc v1.0.69\n",
      "\u001b[0m\u001b[0m\u001b[1m\u001b[32m   Compiling\u001b[0m serde v1.0.129\n",
      "\u001b[0m\u001b[0m\u001b[1m\u001b[32m   Compiling\u001b[0m unicode-segmentation v1.8.0\n",
      "\u001b[0m\u001b[0m\u001b[1m\u001b[32m   Compiling\u001b[0m unicode-width v0.1.8\n",
      "\u001b[0m\u001b[0m\u001b[1m\u001b[32m   Compiling\u001b[0m ryu v1.0.5\n",
      "\u001b[0m\u001b[0m\u001b[1m\u001b[32m   Compiling\u001b[0m ansi_term v0.11.0\n",
      "\u001b[0m\u001b[0m\u001b[1m\u001b[32m   Compiling\u001b[0m serde_json v1.0.66\n",
      "\u001b[0m\u001b[0m\u001b[1m\u001b[32m   Compiling\u001b[0m strsim v0.8.0\n",
      "\u001b[0m\u001b[0m\u001b[1m\u001b[32m   Compiling\u001b[0m bitflags v1.3.2\n",
      "\u001b[0m\u001b[0m\u001b[1m\u001b[32m   Compiling\u001b[0m vec_map v0.8.2\n",
      "\u001b[0m\u001b[0m\u001b[1m\u001b[32m   Compiling\u001b[0m lazy_static v1.4.0\n",
      "\u001b[0m\u001b[0m\u001b[1m\u001b[32m   Compiling\u001b[0m itoa v0.4.8\n",
      "\u001b[K\u001b[0m\u001b[0m\u001b[1m\u001b[32m   Compiling\u001b[0m textwrap v0.11.0          ] 0/47: version_check, unicode-wi...\n",
      "\u001b[K\u001b[0m\u001b[0m\u001b[1m\u001b[32m   Compiling\u001b[0m proc-macro-error-attr v1.0.46/47: version_check, unicode-se...\n",
      "\u001b[0m\u001b[0m\u001b[1m\u001b[32m   Compiling\u001b[0m proc-macro-error v1.0.4\n",
      "\u001b[K\u001b[0m\u001b[0m\u001b[1m\u001b[32m   Compiling\u001b[0m heck v0.3.3              ] 20/47: proc-macro2, unicode-segm...\n",
      "\u001b[K\u001b[0m\u001b[0m\u001b[1m\u001b[32m   Compiling\u001b[0m libmimalloc-sys v0.1.22  ] 28/47: proc-macro2, cc, libc, pr...\n",
      "\u001b[K\u001b[0m\u001b[0m\u001b[1m\u001b[32m   Compiling\u001b[0m quote v1.0.9==>          ] 30/47: proc-macro2, libc, libmim...\n",
      "\u001b[K\u001b[0m\u001b[0m\u001b[1m\u001b[32m   Compiling\u001b[0m atty v0.2.14==>          ] 31/47: quote, libc, libmimalloc-...\n",
      "\u001b[K\u001b[0m\u001b[0m\u001b[1m\u001b[32m   Compiling\u001b[0m clap v2.33.3====>        ] 34/47: libmimalloc-sys(build), p...\n",
      "\u001b[K\u001b[0m\u001b[0m\u001b[1m\u001b[32m   Compiling\u001b[0m mimalloc v0.1.26==>      ] 37/47: syn, clap, serde, libmima...\n",
      "\u001b[K\u001b[0m\u001b[0m\u001b[1m\u001b[32m   Compiling\u001b[0m structopt-derive v0.4.15 ] 41/47: serde_json, syn, clap       \n",
      "\u001b[K\u001b[0m\u001b[0m\u001b[1m\u001b[32m   Compiling\u001b[0m structopt v0.3.22====>   ] 42/47: serde_json, clap, structo...\n",
      "\u001b[K\u001b[0m\u001b[0m\u001b[1m\u001b[32m   Compiling\u001b[0m pcompress v0.2.2======>  ] 45/47: clap                        \n",
      "\u001b[K\u001b[0m\u001b[0m\u001b[1m\u001b[32m    Finished\u001b[0m release [optimized] target(s) in 20.82sress(bin)              \n",
      "\u001b[0m\u001b[0m\u001b[1m\u001b[32m   Replacing\u001b[0m /home/max/.cargo/bin/pcompress\n",
      "\u001b[0m\u001b[0m\u001b[1m\u001b[32m    Replaced\u001b[0m package `pcompress v0.2.1` with `pcompress v0.2.2` (executable `pcompress`)\n"
     ]
    }
   ],
   "source": [
    "!cargo install pcompress"
   ]
  },
  {
   "cell_type": "code",
   "execution_count": 1,
   "id": "ff4ea55b",
   "metadata": {},
   "outputs": [],
   "source": [
    "import pcompress"
   ]
  },
  {
   "cell_type": "markdown",
   "id": "13c73cdf",
   "metadata": {},
   "source": [
    "## GerryChain Quickstart"
   ]
  },
  {
   "cell_type": "code",
   "execution_count": 2,
   "id": "3ef8a6a5",
   "metadata": {},
   "outputs": [],
   "source": [
    "from gerrychain import (\n",
    "    GeographicPartition,\n",
    "    Graph,\n",
    "    MarkovChain,\n",
    "    proposals,\n",
    "    updaters,\n",
    "    constraints,\n",
    "    accept,\n",
    ")\n",
    "from gerrychain.proposals import recom\n",
    "from functools import partial\n",
    "import tqdm\n",
    "\n",
    "graph = Graph.from_json(\"../../examples/PA_VTDs.json\")\n",
    "\n",
    "my_updaters = {\"population\": updaters.Tally(\"TOTPOP\", alias=\"population\")}\n",
    "initial_partition = GeographicPartition(\n",
    "    graph, assignment=\"CD_2011\", updaters=my_updaters\n",
    ")\n",
    "\n",
    "ideal_population = sum(initial_partition[\"population\"].values()) / len(\n",
    "    initial_partition\n",
    ")\n",
    "\n",
    "# We use functools.partial to bind the extra parameters (pop_col, pop_target, epsilon, node_repeats)\n",
    "# of the recom proposal.\n",
    "proposal = partial(\n",
    "    recom, pop_col=\"TOTPOP\", pop_target=ideal_population, epsilon=0.02, node_repeats=2\n",
    ")\n",
    "\n",
    "compactness_bound = constraints.UpperBound(\n",
    "    lambda p: len(p[\"cut_edges\"]), 2 * len(initial_partition[\"cut_edges\"])\n",
    ")\n",
    "\n",
    "pop_constraint = constraints.within_percent_of_ideal_population(initial_partition, 0.02)\n",
    "\n",
    "chain = MarkovChain(\n",
    "    proposal=proposal,\n",
    "    constraints=[pop_constraint],\n",
    "    accept=accept.always_accept,\n",
    "    initial_state=initial_partition,\n",
    "    total_steps=10,\n",
    ")"
   ]
  },
  {
   "cell_type": "markdown",
   "id": "513f4a16",
   "metadata": {},
   "source": [
    "## Demo Usage"
   ]
  },
  {
   "cell_type": "code",
   "execution_count": 3,
   "id": "a1873c35",
   "metadata": {
    "scrolled": true
   },
   "outputs": [
    {
     "name": "stdout",
     "output_type": "stream",
     "text": [
      "{3: 705317, 5: 706258, 10: 705327, 9: 705679, 12: 705698, 6: 705782, 15: 705549, 7: 706391, 16: 705629, 11: 705883, 4: 705669, 8: 705689, 17: 705830, 18: 705847, 14: 705526, 13: 705028, 2: 705689, 1: 705588}\n",
      "{3: 705317, 5: 706258, 10: 705327, 9: 705679, 12: 705698, 6: 692987, 15: 705549, 7: 719186, 16: 705629, 11: 705883, 4: 705669, 8: 705689, 17: 705830, 18: 705847, 14: 705526, 13: 705028, 2: 705689, 1: 705588}\n",
      "{3: 705317, 5: 706258, 10: 705327, 9: 705679, 12: 705698, 6: 692987, 15: 705549, 7: 719186, 16: 705629, 11: 717249, 4: 705669, 8: 705689, 17: 694464, 18: 705847, 14: 705526, 13: 705028, 2: 705689, 1: 705588}\n",
      "{3: 705317, 5: 706258, 10: 705327, 9: 705679, 12: 705698, 6: 692987, 15: 705549, 7: 719186, 16: 705629, 11: 717249, 4: 705669, 8: 705689, 17: 694464, 18: 705847, 14: 705526, 13: 705028, 2: 705689, 1: 705588}\n",
      "{3: 702241, 5: 706258, 10: 705327, 9: 705679, 12: 708774, 6: 692987, 15: 705549, 7: 719186, 16: 705629, 11: 717249, 4: 705669, 8: 705689, 17: 694464, 18: 705847, 14: 705526, 13: 705028, 2: 705689, 1: 705588}\n",
      "{3: 701951, 5: 706258, 10: 705327, 9: 705969, 12: 708774, 6: 692987, 15: 705549, 7: 719186, 16: 705629, 11: 717249, 4: 705669, 8: 705689, 17: 694464, 18: 705847, 14: 705526, 13: 705028, 2: 705689, 1: 705588}\n",
      "{3: 701951, 5: 706258, 10: 705327, 9: 705969, 12: 708774, 6: 693907, 15: 705549, 7: 718266, 16: 705629, 11: 717249, 4: 705669, 8: 705689, 17: 694464, 18: 705847, 14: 705526, 13: 705028, 2: 705689, 1: 705588}\n",
      "{3: 701951, 5: 706258, 10: 705327, 9: 705969, 12: 708774, 6: 693907, 15: 705549, 7: 718266, 16: 705629, 11: 717249, 4: 705669, 8: 705689, 17: 694464, 18: 705847, 14: 705526, 13: 705028, 2: 714867, 1: 696410}\n",
      "{3: 701951, 5: 706258, 10: 705327, 9: 705969, 12: 708774, 6: 693907, 15: 705549, 7: 718266, 16: 705629, 11: 702973, 4: 705669, 8: 705689, 17: 708740, 18: 705847, 14: 705526, 13: 705028, 2: 714867, 1: 696410}\n",
      "{3: 701951, 5: 706258, 10: 705327, 9: 705969, 12: 708774, 6: 693907, 15: 705549, 7: 718266, 16: 705629, 11: 702973, 4: 705669, 8: 705689, 17: 708740, 18: 705847, 14: 705526, 13: 705028, 2: 699116, 1: 712161}\n"
     ]
    }
   ],
   "source": [
    "for partition in chain:  # normal\n",
    "    print(partition.population)"
   ]
  },
  {
   "cell_type": "code",
   "execution_count": 5,
   "id": "aa8c8723",
   "metadata": {},
   "outputs": [
    {
     "data": {
      "text/plain": [
       "411     3\n",
       "2455    3\n",
       "2456    3\n",
       "2458    3\n",
       "2459    3\n",
       "       ..\n",
       "6138    1\n",
       "6139    1\n",
       "6140    1\n",
       "6141    1\n",
       "6142    1\n",
       "Length: 9255, dtype: int64"
      ]
     },
     "execution_count": 5,
     "metadata": {},
     "output_type": "execute_result"
    }
   ],
   "source": [
    "partition.assignment.to_series()"
   ]
  },
  {
   "cell_type": "code",
   "execution_count": 10,
   "id": "1f4f18c3",
   "metadata": {},
   "outputs": [
    {
     "data": {
      "text/plain": [
       "2"
      ]
     },
     "execution_count": 10,
     "metadata": {},
     "output_type": "execute_result"
    }
   ],
   "source": [
    "partition.flip({411:2}).assignment.to_series().at[411]"
   ]
  },
  {
   "cell_type": "code",
   "execution_count": 9,
   "id": "2e775754",
   "metadata": {},
   "outputs": [
    {
     "name": "stdout",
     "output_type": "stream",
     "text": [
      "{3: 705317, 5: 706258, 10: 705327, 9: 705679, 12: 705698, 6: 705782, 15: 705549, 7: 706391, 16: 705629, 11: 705883, 4: 705669, 8: 705689, 17: 705830, 18: 705847, 14: 705526, 13: 705028, 2: 705689, 1: 705588}\n",
      "{3: 705317, 5: 706258, 10: 705327, 9: 705679, 12: 705698, 6: 705782, 15: 705549, 7: 706391, 16: 705629, 11: 694590, 4: 705669, 8: 705689, 17: 717123, 18: 705847, 14: 705526, 13: 705028, 2: 705689, 1: 705588}\n",
      "{3: 705317, 5: 706258, 10: 705327, 9: 705679, 12: 705698, 6: 705782, 15: 705549, 7: 702017, 16: 705629, 11: 694590, 4: 705669, 8: 705689, 17: 717123, 18: 705847, 14: 705526, 13: 709402, 2: 705689, 1: 705588}\n",
      "{3: 705317, 5: 706258, 10: 705327, 9: 705679, 12: 705698, 6: 705782, 15: 705549, 7: 702017, 16: 705629, 11: 694590, 4: 705669, 8: 705689, 17: 717123, 18: 705847, 14: 705526, 13: 718226, 2: 705689, 1: 696764}\n",
      "{3: 705317, 5: 706258, 10: 705327, 9: 705679, 12: 705698, 6: 705782, 15: 705549, 7: 702017, 16: 705629, 11: 694590, 4: 705669, 8: 705689, 17: 717123, 18: 705847, 14: 705526, 13: 705162, 2: 705689, 1: 709828}\n",
      "{3: 705317, 5: 706258, 10: 705327, 9: 705679, 12: 705698, 6: 705782, 15: 705549, 7: 702017, 16: 694632, 11: 694590, 4: 705669, 8: 705689, 17: 717123, 18: 705847, 14: 705526, 13: 716159, 2: 705689, 1: 709828}\n",
      "{3: 705317, 5: 706258, 10: 705327, 9: 705679, 12: 706505, 6: 705782, 15: 705549, 7: 702017, 16: 694632, 11: 694590, 4: 705669, 8: 705689, 17: 717123, 18: 705847, 14: 704719, 13: 716159, 2: 705689, 1: 709828}\n",
      "{3: 705317, 5: 706258, 10: 704130, 9: 706876, 12: 706505, 6: 705782, 15: 705549, 7: 702017, 16: 694632, 11: 694590, 4: 705669, 8: 705689, 17: 717123, 18: 705847, 14: 704719, 13: 716159, 2: 705689, 1: 709828}\n",
      "{3: 705317, 5: 706258, 10: 704130, 9: 706876, 12: 706505, 6: 705782, 15: 705549, 7: 719340, 16: 694632, 11: 694590, 4: 705669, 8: 705689, 17: 717123, 18: 705847, 14: 704719, 13: 716159, 2: 705689, 1: 692505}\n",
      "{3: 705317, 5: 706258, 10: 704130, 9: 706876, 12: 706505, 6: 705782, 15: 708243, 7: 719340, 16: 694632, 11: 694590, 4: 705669, 8: 702995, 17: 717123, 18: 705847, 14: 704719, 13: 716159, 2: 705689, 1: 692505}\n"
     ]
    }
   ],
   "source": [
    "for partition in pcompress.Record(chain, \"run.chain\", executable=\"pv\", extreme=True):\n",
    "    print(partition.population)"
   ]
  },
  {
   "cell_type": "markdown",
   "id": "0273f2e5",
   "metadata": {},
   "source": [
    "## Replay"
   ]
  },
  {
   "cell_type": "code",
   "execution_count": 10,
   "id": "eb22d316",
   "metadata": {},
   "outputs": [
    {
     "name": "stdout",
     "output_type": "stream",
     "text": [
      "{3: 705317, 5: 706258, 10: 705327, 9: 705679, 12: 705698, 6: 705782, 15: 705549, 7: 706391, 16: 705629, 11: 705883, 4: 705669, 8: 705689, 17: 705830, 18: 705847, 14: 705526, 13: 705028, 2: 705689, 1: 705588}\n",
      "{3: 705317, 5: 706258, 10: 705327, 9: 705679, 12: 705698, 6: 705782, 15: 705549, 7: 706391, 16: 705629, 11: 694590, 4: 705669, 8: 705689, 17: 717123, 18: 705847, 14: 705526, 13: 705028, 2: 705689, 1: 705588}\n",
      "{3: 705317, 5: 706258, 10: 705327, 9: 705679, 12: 705698, 6: 705782, 15: 705549, 13: 709402, 16: 705629, 11: 694590, 4: 705669, 8: 705689, 17: 717123, 18: 705847, 14: 705526, 7: 702017, 2: 705689, 1: 705588}\n",
      "{3: 705317, 5: 706258, 10: 705327, 9: 705679, 12: 705698, 6: 705782, 15: 705549, 1: 696764, 16: 705629, 11: 694590, 4: 705669, 8: 705689, 17: 717123, 18: 705847, 14: 705526, 7: 702017, 2: 705689, 13: 718226}\n",
      "{3: 705317, 5: 706258, 10: 705327, 9: 705679, 12: 705698, 6: 705782, 15: 705549, 13: 705162, 16: 705629, 11: 694590, 4: 705669, 8: 705689, 17: 717123, 18: 705847, 14: 705526, 7: 702017, 2: 705689, 1: 709828}\n",
      "{3: 705317, 5: 706258, 10: 705327, 9: 705679, 12: 705698, 6: 705782, 15: 705549, 13: 716159, 11: 694590, 4: 705669, 8: 705689, 17: 717123, 18: 705847, 14: 705526, 7: 702017, 16: 694632, 2: 705689, 1: 709828}\n",
      "{3: 705317, 5: 706258, 10: 705327, 9: 705679, 14: 704719, 6: 705782, 15: 705549, 13: 716159, 11: 694590, 4: 705669, 8: 705689, 17: 717123, 18: 705847, 12: 706505, 7: 702017, 16: 694632, 2: 705689, 1: 709828}\n",
      "{3: 705317, 5: 706258, 10: 704130, 9: 706876, 14: 704719, 6: 705782, 15: 705549, 13: 716159, 11: 694590, 4: 705669, 8: 705689, 17: 717123, 18: 705847, 12: 706505, 7: 702017, 16: 694632, 2: 705689, 1: 709828}\n",
      "{3: 705317, 5: 706258, 10: 704130, 9: 706876, 14: 704719, 6: 705782, 15: 705549, 13: 716159, 11: 694590, 4: 705669, 8: 705689, 17: 717123, 18: 705847, 12: 706505, 7: 719340, 1: 692505, 16: 694632, 2: 705689}\n",
      "{3: 705317, 5: 706258, 10: 704130, 9: 706876, 14: 704719, 6: 705782, 8: 702995, 13: 716159, 11: 694590, 4: 705669, 15: 708243, 17: 717123, 18: 705847, 12: 706505, 7: 719340, 1: 692505, 16: 694632, 2: 705689}\n"
     ]
    }
   ],
   "source": [
    "for partition in pcompress.Replay(graph, \"run.chain\", executable=\"pv\", updaters=my_updaters):\n",
    "    print(partition.population)"
   ]
  },
  {
   "cell_type": "code",
   "execution_count": null,
   "id": "a2996323",
   "metadata": {},
   "outputs": [],
   "source": []
  }
 ],
 "metadata": {
  "kernelspec": {
   "display_name": "Python 3 (ipykernel)",
   "language": "python",
   "name": "python3"
  },
  "language_info": {
   "codemirror_mode": {
    "name": "ipython",
    "version": 3
   },
   "file_extension": ".py",
   "mimetype": "text/x-python",
   "name": "python",
   "nbconvert_exporter": "python",
   "pygments_lexer": "ipython3",
   "version": "3.9.6"
  }
 },
 "nbformat": 4,
 "nbformat_minor": 5
}
